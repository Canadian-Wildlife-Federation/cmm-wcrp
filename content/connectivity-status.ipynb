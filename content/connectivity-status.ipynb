{
  "cells": [
    {
      "cell_type": "code",
      "metadata": {},
      "source": [
        "import warnings\n",
        "import pandas as pd\n",
        "import numpy as np\n",
        "import python.api_calls as api\n",
        "import matplotlib as mpl\n",
        "\n",
        "warnings.filterwarnings('ignore')"
      ],
      "id": "866b6946",
      "execution_count": null,
      "outputs": []
    },
    {
      "cell_type": "markdown",
      "metadata": {},
      "source": [
        "# Connectivity Status Assessment and Goals {-}\n",
        "\n",
        "## Connectivity Status Assessment {-}\n",
        "\n",
        "The planning team devised two Key Ecological Attributes (KEAs) and associated indicators to assess the current connectivity status of the watershed – Accessible Habitat and Accessible Overwintering Habitat (@tbl-connectivity). KEAs are the key aspects of anadromous salmon ecology that are being targeted by this WCRP. The connectivity status of Anadromous Salmon was used to establish goals to improve habitat connectivity in the watershed and will be the baseline against which progress is tracked over time. \n",
        "\n",
        "The current connectivity status assessment relies on GIS analyses to map known and modelled barriers to fish passage, identify stream reaches that have potential spawning and rearing habitat, estimate the proportion of habitat that is currently accessible to target species, and prioritize barriers for field assessment that would provide the greatest gains in connectivity. To support a flexible prioritization framework to identify priority barriers in the watershed, two assumptions are made: 1,any modelled (i.e., passability status is unknown) or partial barriers are treated as complete barriers to passage and 2, the habitat modelling is binary, it does not assign any habitat quality values. As such, the current connectivity status will be refined over time as more data on habitat and barriers are collected. For more detail on how the connectivity status assessments were conducted, see Appendix B. \n"
      ],
      "id": "854024f7"
    },
    {
      "cell_type": "code",
      "metadata": {},
      "source": [
        "#| label: tbl-connectivity\n",
        "#| tbl-cap: Connectivity status assessment for (a) linear habitat (spawning and rearing) and (b) overwintering habitat in the Horsefly River watershed. The Available Habitat KEA is evaluated by dividing the length of linear habitat that is currently accessible to target species by the total length of all linear habitat in the watershed. The Available Overwintering Habitat KEA is evaluated as the sum of all areal overwintering habitat that is accessible to target species.\n",
        "#| warning: false\n",
        "#| echo: false\n",
        "\n",
        "import warnings\n",
        "\n",
        "warnings.filterwarnings('ignore')\n",
        "\n",
        "df = pd.DataFrame({\"Target Species\":[\"Andromous Salmon\",\" \"],\n",
        "                   \"KEA\":[\"Available Habitat\",\" \"],\n",
        "                   \"Indicator\":[\"% of total linear habitat\",\"Current Status:\"],\n",
        "                   \"Poor\":[\"<80%\",\" \"],\n",
        "                   \"Fair\":[\"  \",\" \"],\n",
        "                   \"Good\":[\"81-90%\",\" \"],\n",
        "                   \"Very Good\":[\">90%\", api.watershed_connectivity(\"ALL\")[0]]\n",
        "                   })\n",
        "\n",
        "\n",
        "def highlighttab7(val):\n",
        "    red = '#ff0000;'\n",
        "    yellow = '#ffff00;'\n",
        "    lgreen = '#92d050;'\n",
        "    dgreen = '#03853e;'\n",
        "\n",
        "    if val==\"<80%\" : color = red\n",
        "    elif val[0:].isdigit() and int(val) < 80 : color = red\n",
        "    elif val==\"  \": color = yellow\n",
        "    elif val==\"81-90%\"  : color = lgreen\n",
        "    elif val[0:].isdigit() and (int(val) >= 80 and int(val) < 90) : color = lgreen \n",
        "    elif val ==\">90%\": color = dgreen\n",
        "    elif val[0:].isdigit() and int(val) >= 90 : color = dgreen \n",
        "    elif val == \"Current Status:\" : return \"font-weight: bold\"\n",
        "    else: color = 'white'\n",
        "    return 'background-color: %s' % color\n",
        "\n",
        "df.style.applymap(highlighttab7).set_table_styles(\n",
        "   [{\n",
        "       'selector': 'th',\n",
        "       'props': [('background-color', '#008270'),('text-align', 'left')]\n",
        "   }]).hide()"
      ],
      "id": "tbl-connectivity",
      "execution_count": null,
      "outputs": []
    },
    {
      "cell_type": "markdown",
      "metadata": {},
      "source": [
        "**Comments:** Indicator rating definitions are based on the consensus decisions of the planning team, including the decision not to define Fair. The current status is based on the CWF Barrier Prioritization Model output, which is current as of March 2022.\n"
      ],
      "id": "68695737"
    },
    {
      "cell_type": "code",
      "metadata": {},
      "source": [
        "#| warning: false\n",
        "#| echo: false\n",
        "\n",
        "#creating table 7\n",
        "import pandas as pd\n",
        "import numpy as np\n",
        "import matplotlib as mpl\n",
        "\n",
        "\n",
        "warnings.filterwarnings('ignore')\n",
        "\n",
        "df = pd.DataFrame({\"Target Species\":[\"Andromous Salmon\",\"\"],\n",
        "                   \"KEA\":[\"Available Overwintering Habitat\",\"\"],\n",
        "                   \"Indicator\":[\"Total Area (m2) of overwintering habitat accessible\",\"Current Status:\"],\n",
        "                   \"Poor\":[\"?\",\"\"],\n",
        "                   \"Fair\":[\" ?\",\"\"],\n",
        "                   \"Good\":[\"? \",\"\"],\n",
        "                   \"Very Good\":[\" ? \",\"\"]\n",
        "                   })\n",
        "\n",
        "def highlighttab7b(val):\n",
        "    red = '#ff0000;'\n",
        "    yellow = '#ffff00;'\n",
        "    lgreen = '#92d050;'\n",
        "    dgreen = '#03853e;'\n",
        "\n",
        "    if val==\"?\" : color = red\n",
        "    elif val[0:].isdigit() and int(val) < 80 : color = red\n",
        "    elif val==\" ?\": color = yellow\n",
        "    elif val==\"? \"  : color = lgreen\n",
        "    elif val[0:].isdigit() and (int(val) >= 80 and int(val) < 90) : color = lgreen \n",
        "    elif val ==\" ? \": color = dgreen\n",
        "    elif val[0:].isdigit() and int(val) >= 90 : color = dgreen \n",
        "    elif val == \"Current Status:\" : return \"font-weight: bold\"\n",
        "    else: color = 'white'\n",
        "    return 'background-color: %s' % color\n",
        "\n",
        "df.style.applymap(highlighttab7b).set_table_styles(\n",
        "   [{\n",
        "       'selector': 'th',\n",
        "       'props': [('background-color', '#008270'),('text-align', 'left')]\n",
        "   }]).hide()\n"
      ],
      "id": "28d99a37",
      "execution_count": null,
      "outputs": []
    },
    {
      "cell_type": "markdown",
      "metadata": {},
      "source": [
        "**Comments:** No baseline data exists on the extent of overwintering habitat in the watershed. A priority action is included in the Operational Plan (strategy 2.3) to develop a habitat layer, and this will be used to inform this connectivity status assessment in the future.\n",
        "\n",
        "\n",
        "## Goals {-}\n"
      ],
      "id": "a6c91598"
    },
    {
      "cell_type": "code",
      "metadata": {},
      "source": [
        "#| label: tbl-goals\n",
        "#| tbl-cap: 'Goals to improve (1) spawning and rearing and (2) overwintering habitat connectivity for target species in the Horsefly River watershed over the lifespan of the WCRP (2021-2040). The goals were established through discussions with the planning team and represent the resulting desired state of connectivity in the watershed. The goals are subject to change as more information and data are collected over the course of the plan timeline (e.g., the current connectivity status is updated based on barrier field assessments).'\n",
        "#| warning: false\n",
        "#| echo: false\n",
        "df = pd.DataFrame({\"Goal #\": [1,2],\n",
        "                   \"Goal\": [\"By 2040, the percent (%) of total linear habitat accessible to anadromous salmon will increase from \" + str(api.watershed_connectivity(\"ALL\")[0])+\"% \" + \" to 96% within the Horsefly River watershed (i.e., reconnect at least \"+ str(api.gain) +\" of habitat).\",\n",
        "                            \"By 2024, the total area of overwintering habitat accessible to Anadromous Salmon will increase by 1,500 m2 within the Horsefly River watershed. \"]\n",
        "                    })\n",
        "\n",
        "data = df.style.hide().set_properties(**{'text-align': 'left'})\n",
        "\n",
        "data.set_table_styles(\n",
        "   [{\n",
        "       'selector': 'th',\n",
        "       'props': [('background-color', '#008270'),('text-align', 'left')]\n",
        "   }])"
      ],
      "id": "tbl-goals",
      "execution_count": null,
      "outputs": []
    }
  ],
  "metadata": {
    "kernelspec": {
      "display_name": "Python 3",
      "language": "python",
      "name": "python3"
    }
  },
  "nbformat": 4,
  "nbformat_minor": 5
}